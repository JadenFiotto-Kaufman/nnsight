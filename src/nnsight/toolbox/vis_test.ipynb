{
 "cells": [
  {
   "cell_type": "code",
   "execution_count": 4,
   "metadata": {},
   "outputs": [],
   "source": [
    "from nnsight import LanguageModel\n",
    "from visualizations.model_testing import test_prompt"
   ]
  },
  {
   "cell_type": "code",
   "execution_count": 5,
   "metadata": {},
   "outputs": [],
   "source": [
    "model = LanguageModel(\"gpt2\", device_map=\"cuda:0\")\n",
    "tokenizer = model.tokenizer"
   ]
  },
  {
   "cell_type": "code",
   "execution_count": 8,
   "metadata": {},
   "outputs": [
    {
     "data": {
      "text/html": [
       "<pre style=\"white-space:pre;overflow-x:auto;line-height:normal;font-family:Menlo,'DejaVu Sans Mono',consolas,'Courier New',monospace\"><span style=\"font-style: italic\">          Top K Tokens           </span>\n",
       "┏━━━┳━━━━━━━━━┳━━━━━━━┳━━━━━━━━━┓\n",
       "┃<span style=\"font-weight: bold\"> K </span>┃<span style=\"font-weight: bold\">  Logit  </span>┃<span style=\"font-weight: bold\"> Prob  </span>┃<span style=\"font-weight: bold\"> Token   </span>┃\n",
       "┡━━━╇━━━━━━━━━╇━━━━━━━╇━━━━━━━━━┩\n",
       "│<span style=\"color: #008000; text-decoration-color: #008000; font-weight: bold\"> 0 </span>│<span style=\"color: #008000; text-decoration-color: #008000; font-weight: bold\"> -82.045 </span>│<span style=\"color: #008000; text-decoration-color: #008000; font-weight: bold\"> 0.123 </span>│<span style=\"color: #008000; text-decoration-color: #008000; font-weight: bold\"> | Paris </span>│\n",
       "│<span style=\"color: #008080; text-decoration-color: #008080\"> 0 </span>│<span style=\"color: #008080; text-decoration-color: #008080\"> -82.045 </span>│<span style=\"color: #008080; text-decoration-color: #008080\"> 0.123 </span>│<span style=\"color: #008080; text-decoration-color: #008080\"> | Paris </span>│\n",
       "│<span style=\"color: #008080; text-decoration-color: #008080\"> 1 </span>│<span style=\"color: #008080; text-decoration-color: #008080\"> -83.049 </span>│<span style=\"color: #008080; text-decoration-color: #008080\"> 0.045 </span>│<span style=\"color: #008080; text-decoration-color: #008080\"> | St    </span>│\n",
       "│<span style=\"color: #008080; text-decoration-color: #008080\"> 2 </span>│<span style=\"color: #008080; text-decoration-color: #008080\"> -83.239 </span>│<span style=\"color: #008080; text-decoration-color: #008080\"> 0.037 </span>│<span style=\"color: #008080; text-decoration-color: #008080\"> | Marse </span>│\n",
       "│<span style=\"color: #008080; text-decoration-color: #008080\"> 3 </span>│<span style=\"color: #008080; text-decoration-color: #008080\"> -83.258 </span>│<span style=\"color: #008080; text-decoration-color: #008080\"> 0.037 </span>│<span style=\"color: #008080; text-decoration-color: #008080\"> | Stras </span>│\n",
       "│<span style=\"color: #008080; text-decoration-color: #008080\"> 4 </span>│<span style=\"color: #008080; text-decoration-color: #008080\"> -83.308 </span>│<span style=\"color: #008080; text-decoration-color: #008080\"> 0.035 </span>│<span style=\"color: #008080; text-decoration-color: #008080\"> | Nice  </span>│\n",
       "│<span style=\"color: #008080; text-decoration-color: #008080\"> 5 </span>│<span style=\"color: #008080; text-decoration-color: #008080\"> -83.318 </span>│<span style=\"color: #008080; text-decoration-color: #008080\"> 0.035 </span>│<span style=\"color: #008080; text-decoration-color: #008080\"> | Saint </span>│\n",
       "│<span style=\"color: #008080; text-decoration-color: #008080\"> 6 </span>│<span style=\"color: #008080; text-decoration-color: #008080\"> -83.618 </span>│<span style=\"color: #008080; text-decoration-color: #008080\"> 0.026 </span>│<span style=\"color: #008080; text-decoration-color: #008080\"> | Mont  </span>│\n",
       "│<span style=\"color: #008080; text-decoration-color: #008080\"> 7 </span>│<span style=\"color: #008080; text-decoration-color: #008080\"> -83.686 </span>│<span style=\"color: #008080; text-decoration-color: #008080\"> 0.024 </span>│<span style=\"color: #008080; text-decoration-color: #008080\"> | Vers  </span>│\n",
       "│<span style=\"color: #008080; text-decoration-color: #008080\"> 8 </span>│<span style=\"color: #008080; text-decoration-color: #008080\"> -84.003 </span>│<span style=\"color: #008080; text-decoration-color: #008080\"> 0.017 </span>│<span style=\"color: #008080; text-decoration-color: #008080\"> | Lyon  </span>│\n",
       "│<span style=\"color: #008080; text-decoration-color: #008080\"> 9 </span>│<span style=\"color: #008080; text-decoration-color: #008080\"> -84.056 </span>│<span style=\"color: #008080; text-decoration-color: #008080\"> 0.017 </span>│<span style=\"color: #008080; text-decoration-color: #008080\"> | the   </span>│\n",
       "└───┴─────────┴───────┴─────────┘\n",
       "</pre>\n"
      ],
      "text/plain": [
       "\u001b[3m          Top K Tokens           \u001b[0m\n",
       "┏━━━┳━━━━━━━━━┳━━━━━━━┳━━━━━━━━━┓\n",
       "┃\u001b[1m \u001b[0m\u001b[1mK\u001b[0m\u001b[1m \u001b[0m┃\u001b[1m \u001b[0m\u001b[1m Logit \u001b[0m\u001b[1m \u001b[0m┃\u001b[1m \u001b[0m\u001b[1mProb \u001b[0m\u001b[1m \u001b[0m┃\u001b[1m \u001b[0m\u001b[1mToken  \u001b[0m\u001b[1m \u001b[0m┃\n",
       "┡━━━╇━━━━━━━━━╇━━━━━━━╇━━━━━━━━━┩\n",
       "│\u001b[1;32m \u001b[0m\u001b[1;32m0\u001b[0m\u001b[1;32m \u001b[0m│\u001b[1;32m \u001b[0m\u001b[1;32m-82.045\u001b[0m\u001b[1;32m \u001b[0m│\u001b[1;32m \u001b[0m\u001b[1;32m0.123\u001b[0m\u001b[1;32m \u001b[0m│\u001b[1;32m \u001b[0m\u001b[1;32m| Paris\u001b[0m\u001b[1;32m \u001b[0m│\n",
       "│\u001b[36m \u001b[0m\u001b[36m0\u001b[0m\u001b[36m \u001b[0m│\u001b[36m \u001b[0m\u001b[36m-82.045\u001b[0m\u001b[36m \u001b[0m│\u001b[36m \u001b[0m\u001b[36m0.123\u001b[0m\u001b[36m \u001b[0m│\u001b[36m \u001b[0m\u001b[36m| Paris\u001b[0m\u001b[36m \u001b[0m│\n",
       "│\u001b[36m \u001b[0m\u001b[36m1\u001b[0m\u001b[36m \u001b[0m│\u001b[36m \u001b[0m\u001b[36m-83.049\u001b[0m\u001b[36m \u001b[0m│\u001b[36m \u001b[0m\u001b[36m0.045\u001b[0m\u001b[36m \u001b[0m│\u001b[36m \u001b[0m\u001b[36m| St   \u001b[0m\u001b[36m \u001b[0m│\n",
       "│\u001b[36m \u001b[0m\u001b[36m2\u001b[0m\u001b[36m \u001b[0m│\u001b[36m \u001b[0m\u001b[36m-83.239\u001b[0m\u001b[36m \u001b[0m│\u001b[36m \u001b[0m\u001b[36m0.037\u001b[0m\u001b[36m \u001b[0m│\u001b[36m \u001b[0m\u001b[36m| Marse\u001b[0m\u001b[36m \u001b[0m│\n",
       "│\u001b[36m \u001b[0m\u001b[36m3\u001b[0m\u001b[36m \u001b[0m│\u001b[36m \u001b[0m\u001b[36m-83.258\u001b[0m\u001b[36m \u001b[0m│\u001b[36m \u001b[0m\u001b[36m0.037\u001b[0m\u001b[36m \u001b[0m│\u001b[36m \u001b[0m\u001b[36m| Stras\u001b[0m\u001b[36m \u001b[0m│\n",
       "│\u001b[36m \u001b[0m\u001b[36m4\u001b[0m\u001b[36m \u001b[0m│\u001b[36m \u001b[0m\u001b[36m-83.308\u001b[0m\u001b[36m \u001b[0m│\u001b[36m \u001b[0m\u001b[36m0.035\u001b[0m\u001b[36m \u001b[0m│\u001b[36m \u001b[0m\u001b[36m| Nice \u001b[0m\u001b[36m \u001b[0m│\n",
       "│\u001b[36m \u001b[0m\u001b[36m5\u001b[0m\u001b[36m \u001b[0m│\u001b[36m \u001b[0m\u001b[36m-83.318\u001b[0m\u001b[36m \u001b[0m│\u001b[36m \u001b[0m\u001b[36m0.035\u001b[0m\u001b[36m \u001b[0m│\u001b[36m \u001b[0m\u001b[36m| Saint\u001b[0m\u001b[36m \u001b[0m│\n",
       "│\u001b[36m \u001b[0m\u001b[36m6\u001b[0m\u001b[36m \u001b[0m│\u001b[36m \u001b[0m\u001b[36m-83.618\u001b[0m\u001b[36m \u001b[0m│\u001b[36m \u001b[0m\u001b[36m0.026\u001b[0m\u001b[36m \u001b[0m│\u001b[36m \u001b[0m\u001b[36m| Mont \u001b[0m\u001b[36m \u001b[0m│\n",
       "│\u001b[36m \u001b[0m\u001b[36m7\u001b[0m\u001b[36m \u001b[0m│\u001b[36m \u001b[0m\u001b[36m-83.686\u001b[0m\u001b[36m \u001b[0m│\u001b[36m \u001b[0m\u001b[36m0.024\u001b[0m\u001b[36m \u001b[0m│\u001b[36m \u001b[0m\u001b[36m| Vers \u001b[0m\u001b[36m \u001b[0m│\n",
       "│\u001b[36m \u001b[0m\u001b[36m8\u001b[0m\u001b[36m \u001b[0m│\u001b[36m \u001b[0m\u001b[36m-84.003\u001b[0m\u001b[36m \u001b[0m│\u001b[36m \u001b[0m\u001b[36m0.017\u001b[0m\u001b[36m \u001b[0m│\u001b[36m \u001b[0m\u001b[36m| Lyon \u001b[0m\u001b[36m \u001b[0m│\n",
       "│\u001b[36m \u001b[0m\u001b[36m9\u001b[0m\u001b[36m \u001b[0m│\u001b[36m \u001b[0m\u001b[36m-84.056\u001b[0m\u001b[36m \u001b[0m│\u001b[36m \u001b[0m\u001b[36m0.017\u001b[0m\u001b[36m \u001b[0m│\u001b[36m \u001b[0m\u001b[36m| the  \u001b[0m\u001b[36m \u001b[0m│\n",
       "└───┴─────────┴───────┴─────────┘\n"
      ]
     },
     "metadata": {},
     "output_type": "display_data"
    }
   ],
   "source": [
    "test_prompt(model, \"The capitol of France is the city of\", \" Paris\")"
   ]
  }
 ],
 "metadata": {
  "kernelspec": {
   "display_name": "interp",
   "language": "python",
   "name": "python3"
  },
  "language_info": {
   "codemirror_mode": {
    "name": "ipython",
    "version": 3
   },
   "file_extension": ".py",
   "mimetype": "text/x-python",
   "name": "python",
   "nbconvert_exporter": "python",
   "pygments_lexer": "ipython3",
   "version": "3.8.18"
  }
 },
 "nbformat": 4,
 "nbformat_minor": 2
}
