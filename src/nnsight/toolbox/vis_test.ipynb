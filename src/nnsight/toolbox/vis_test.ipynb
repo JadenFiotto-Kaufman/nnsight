{
 "cells": [
  {
   "cell_type": "code",
   "execution_count": 1,
   "metadata": {},
   "outputs": [
    {
     "name": "stderr",
     "output_type": "stream",
     "text": [
      "/share/u/caden/.conda/envs/interp/lib/python3.8/site-packages/tqdm/auto.py:21: TqdmWarning: IProgress not found. Please update jupyter and ipywidgets. See https://ipywidgets.readthedocs.io/en/stable/user_install.html\n",
      "  from .autonotebook import tqdm as notebook_tqdm\n"
     ]
    }
   ],
   "source": [
    "from nnsight import LanguageModel\n",
    "import torch as t\n",
    "from rich import print\n",
    "from typing import Union\n",
    "from rich.console import Console\n",
    "from rich.table import Table"
   ]
  },
  {
   "cell_type": "code",
   "execution_count": 2,
   "metadata": {},
   "outputs": [],
   "source": [
    "model = LanguageModel(\"gpt2\", device_map=\"cuda:0\")\n",
    "tokenizer = model.tokenizer"
   ]
  },
  {
   "cell_type": "code",
   "execution_count": 42,
   "metadata": {},
   "outputs": [],
   "source": [
    "def test_prompt(\n",
    "        model: LanguageModel,\n",
    "        prompt: str,\n",
    "        answer: Union[str, int] = \"\"):\n",
    "    \"\"\"test_prompt returns a table of the top 10 tokens and their probabilities\n",
    "    \n",
    "    Args:\n",
    "        model (LanguageModel): The model to test\n",
    "        prompt (str): The prompt to pass through the model\n",
    "        answer (Union[str, int], optional): The token to test. Can take a string or token value. Defaults to \"\".\n",
    "\n",
    "    \"\"\"\n",
    "\n",
    "    # Pass prompt through model\n",
    "    with model.invoke(prompt) as invoker:\n",
    "        pass\n",
    "            \n",
    "    # Get logits of output\n",
    "    logits = invoker.output.logits\n",
    "    # Get final token logits\n",
    "    final_token_logits = logits[0,-1,:] \n",
    "    probs = final_token_logits.softmax(dim=-1)\n",
    "\n",
    "    # Sort probabilities descending\n",
    "    sorted_indices = t.argsort(probs, descending=True)\n",
    "    # Tokenize answer if it is a string\n",
    "    if type(answer) == str:\n",
    "        answer = model.tokenizer(answer).input_ids[0]\n",
    "    \n",
    "    # Initialize table\n",
    "    table = Table(title=\"Top K Tokens\")\n",
    "\n",
    "    table.add_column(\"K\", justify=\"center\", style=\"cyan\")\n",
    "    table.add_column(\"Logit\", justify=\"center\", style=\"cyan\")\n",
    "    table.add_column(\"Prob\", justify=\"center\", style=\"cyan\")\n",
    "    table.add_column(\"Token\", justify=\"left\", style=\"cyan\")\n",
    "\n",
    "    # Get probability at answer token \n",
    "    rank = (sorted_indices == answer).nonzero(as_tuple=True)[0]\n",
    "    \n",
    "    table.add_row(f\"{rank.item()}\", f\"{final_token_logits[answer]:.3f}\", f\"{probs[answer]:.3f}\", f\"|{model.tokenizer.decode(answer)}\", style=\"bold green\")\n",
    "\n",
    "    # Add top 10 tokens to table\n",
    "    for i in range(10):\n",
    "        tok = sorted_indices[i]\n",
    "        prob = probs[tok]\n",
    "        table.add_row(f\"{i}\", f\"{final_token_logits[tok]:.3f}\", f\"{prob:.3f}\", f\"|{model.tokenizer.decode(tok)}\")\n",
    "\n",
    "    console = Console()\n",
    "    console.print(table)\n",
    "    "
   ]
  },
  {
   "cell_type": "code",
   "execution_count": 41,
   "metadata": {},
   "outputs": [
    {
     "data": {
      "text/html": [
       "<pre style=\"white-space:pre;overflow-x:auto;line-height:normal;font-family:Menlo,'DejaVu Sans Mono',consolas,'Courier New',monospace\"><span style=\"font-style: italic\">            Top K Tokens             </span>\n",
       "┏━━━━━━┳━━━━━━━━━┳━━━━━━━┳━━━━━━━━━━┓\n",
       "┃<span style=\"font-weight: bold\">  K   </span>┃<span style=\"font-weight: bold\">  Logit  </span>┃<span style=\"font-weight: bold\"> Prob  </span>┃<span style=\"font-weight: bold\"> Token    </span>┃\n",
       "┡━━━━━━╇━━━━━━━━━╇━━━━━━━╇━━━━━━━━━━┩\n",
       "│<span style=\"color: #008000; text-decoration-color: #008000; font-weight: bold\"> 3771 </span>│<span style=\"color: #008000; text-decoration-color: #008000; font-weight: bold\"> -92.103 </span>│<span style=\"color: #008000; text-decoration-color: #008000; font-weight: bold\"> 0.000 </span>│<span style=\"color: #008000; text-decoration-color: #008000; font-weight: bold\"> | future </span>│\n",
       "│<span style=\"color: #008080; text-decoration-color: #008080\">  0   </span>│<span style=\"color: #008080; text-decoration-color: #008080\"> -82.045 </span>│<span style=\"color: #008080; text-decoration-color: #008080\"> 0.123 </span>│<span style=\"color: #008080; text-decoration-color: #008080\"> | Paris  </span>│\n",
       "│<span style=\"color: #008080; text-decoration-color: #008080\">  1   </span>│<span style=\"color: #008080; text-decoration-color: #008080\"> -83.049 </span>│<span style=\"color: #008080; text-decoration-color: #008080\"> 0.045 </span>│<span style=\"color: #008080; text-decoration-color: #008080\"> | St     </span>│\n",
       "│<span style=\"color: #008080; text-decoration-color: #008080\">  2   </span>│<span style=\"color: #008080; text-decoration-color: #008080\"> -83.239 </span>│<span style=\"color: #008080; text-decoration-color: #008080\"> 0.037 </span>│<span style=\"color: #008080; text-decoration-color: #008080\"> | Marse  </span>│\n",
       "│<span style=\"color: #008080; text-decoration-color: #008080\">  3   </span>│<span style=\"color: #008080; text-decoration-color: #008080\"> -83.258 </span>│<span style=\"color: #008080; text-decoration-color: #008080\"> 0.037 </span>│<span style=\"color: #008080; text-decoration-color: #008080\"> | Stras  </span>│\n",
       "│<span style=\"color: #008080; text-decoration-color: #008080\">  4   </span>│<span style=\"color: #008080; text-decoration-color: #008080\"> -83.308 </span>│<span style=\"color: #008080; text-decoration-color: #008080\"> 0.035 </span>│<span style=\"color: #008080; text-decoration-color: #008080\"> | Nice   </span>│\n",
       "│<span style=\"color: #008080; text-decoration-color: #008080\">  5   </span>│<span style=\"color: #008080; text-decoration-color: #008080\"> -83.318 </span>│<span style=\"color: #008080; text-decoration-color: #008080\"> 0.035 </span>│<span style=\"color: #008080; text-decoration-color: #008080\"> | Saint  </span>│\n",
       "│<span style=\"color: #008080; text-decoration-color: #008080\">  6   </span>│<span style=\"color: #008080; text-decoration-color: #008080\"> -83.618 </span>│<span style=\"color: #008080; text-decoration-color: #008080\"> 0.026 </span>│<span style=\"color: #008080; text-decoration-color: #008080\"> | Mont   </span>│\n",
       "│<span style=\"color: #008080; text-decoration-color: #008080\">  7   </span>│<span style=\"color: #008080; text-decoration-color: #008080\"> -83.686 </span>│<span style=\"color: #008080; text-decoration-color: #008080\"> 0.024 </span>│<span style=\"color: #008080; text-decoration-color: #008080\"> | Vers   </span>│\n",
       "│<span style=\"color: #008080; text-decoration-color: #008080\">  8   </span>│<span style=\"color: #008080; text-decoration-color: #008080\"> -84.003 </span>│<span style=\"color: #008080; text-decoration-color: #008080\"> 0.017 </span>│<span style=\"color: #008080; text-decoration-color: #008080\"> | Lyon   </span>│\n",
       "│<span style=\"color: #008080; text-decoration-color: #008080\">  9   </span>│<span style=\"color: #008080; text-decoration-color: #008080\"> -84.056 </span>│<span style=\"color: #008080; text-decoration-color: #008080\"> 0.017 </span>│<span style=\"color: #008080; text-decoration-color: #008080\"> | the    </span>│\n",
       "└──────┴─────────┴───────┴──────────┘\n",
       "</pre>\n"
      ],
      "text/plain": [
       "\u001b[3m            Top K Tokens             \u001b[0m\n",
       "┏━━━━━━┳━━━━━━━━━┳━━━━━━━┳━━━━━━━━━━┓\n",
       "┃\u001b[1m \u001b[0m\u001b[1m K  \u001b[0m\u001b[1m \u001b[0m┃\u001b[1m \u001b[0m\u001b[1m Logit \u001b[0m\u001b[1m \u001b[0m┃\u001b[1m \u001b[0m\u001b[1mProb \u001b[0m\u001b[1m \u001b[0m┃\u001b[1m \u001b[0m\u001b[1mToken   \u001b[0m\u001b[1m \u001b[0m┃\n",
       "┡━━━━━━╇━━━━━━━━━╇━━━━━━━╇━━━━━━━━━━┩\n",
       "│\u001b[1;32m \u001b[0m\u001b[1;32m3771\u001b[0m\u001b[1;32m \u001b[0m│\u001b[1;32m \u001b[0m\u001b[1;32m-92.103\u001b[0m\u001b[1;32m \u001b[0m│\u001b[1;32m \u001b[0m\u001b[1;32m0.000\u001b[0m\u001b[1;32m \u001b[0m│\u001b[1;32m \u001b[0m\u001b[1;32m| future\u001b[0m\u001b[1;32m \u001b[0m│\n",
       "│\u001b[36m \u001b[0m\u001b[36m 0  \u001b[0m\u001b[36m \u001b[0m│\u001b[36m \u001b[0m\u001b[36m-82.045\u001b[0m\u001b[36m \u001b[0m│\u001b[36m \u001b[0m\u001b[36m0.123\u001b[0m\u001b[36m \u001b[0m│\u001b[36m \u001b[0m\u001b[36m| Paris \u001b[0m\u001b[36m \u001b[0m│\n",
       "│\u001b[36m \u001b[0m\u001b[36m 1  \u001b[0m\u001b[36m \u001b[0m│\u001b[36m \u001b[0m\u001b[36m-83.049\u001b[0m\u001b[36m \u001b[0m│\u001b[36m \u001b[0m\u001b[36m0.045\u001b[0m\u001b[36m \u001b[0m│\u001b[36m \u001b[0m\u001b[36m| St    \u001b[0m\u001b[36m \u001b[0m│\n",
       "│\u001b[36m \u001b[0m\u001b[36m 2  \u001b[0m\u001b[36m \u001b[0m│\u001b[36m \u001b[0m\u001b[36m-83.239\u001b[0m\u001b[36m \u001b[0m│\u001b[36m \u001b[0m\u001b[36m0.037\u001b[0m\u001b[36m \u001b[0m│\u001b[36m \u001b[0m\u001b[36m| Marse \u001b[0m\u001b[36m \u001b[0m│\n",
       "│\u001b[36m \u001b[0m\u001b[36m 3  \u001b[0m\u001b[36m \u001b[0m│\u001b[36m \u001b[0m\u001b[36m-83.258\u001b[0m\u001b[36m \u001b[0m│\u001b[36m \u001b[0m\u001b[36m0.037\u001b[0m\u001b[36m \u001b[0m│\u001b[36m \u001b[0m\u001b[36m| Stras \u001b[0m\u001b[36m \u001b[0m│\n",
       "│\u001b[36m \u001b[0m\u001b[36m 4  \u001b[0m\u001b[36m \u001b[0m│\u001b[36m \u001b[0m\u001b[36m-83.308\u001b[0m\u001b[36m \u001b[0m│\u001b[36m \u001b[0m\u001b[36m0.035\u001b[0m\u001b[36m \u001b[0m│\u001b[36m \u001b[0m\u001b[36m| Nice  \u001b[0m\u001b[36m \u001b[0m│\n",
       "│\u001b[36m \u001b[0m\u001b[36m 5  \u001b[0m\u001b[36m \u001b[0m│\u001b[36m \u001b[0m\u001b[36m-83.318\u001b[0m\u001b[36m \u001b[0m│\u001b[36m \u001b[0m\u001b[36m0.035\u001b[0m\u001b[36m \u001b[0m│\u001b[36m \u001b[0m\u001b[36m| Saint \u001b[0m\u001b[36m \u001b[0m│\n",
       "│\u001b[36m \u001b[0m\u001b[36m 6  \u001b[0m\u001b[36m \u001b[0m│\u001b[36m \u001b[0m\u001b[36m-83.618\u001b[0m\u001b[36m \u001b[0m│\u001b[36m \u001b[0m\u001b[36m0.026\u001b[0m\u001b[36m \u001b[0m│\u001b[36m \u001b[0m\u001b[36m| Mont  \u001b[0m\u001b[36m \u001b[0m│\n",
       "│\u001b[36m \u001b[0m\u001b[36m 7  \u001b[0m\u001b[36m \u001b[0m│\u001b[36m \u001b[0m\u001b[36m-83.686\u001b[0m\u001b[36m \u001b[0m│\u001b[36m \u001b[0m\u001b[36m0.024\u001b[0m\u001b[36m \u001b[0m│\u001b[36m \u001b[0m\u001b[36m| Vers  \u001b[0m\u001b[36m \u001b[0m│\n",
       "│\u001b[36m \u001b[0m\u001b[36m 8  \u001b[0m\u001b[36m \u001b[0m│\u001b[36m \u001b[0m\u001b[36m-84.003\u001b[0m\u001b[36m \u001b[0m│\u001b[36m \u001b[0m\u001b[36m0.017\u001b[0m\u001b[36m \u001b[0m│\u001b[36m \u001b[0m\u001b[36m| Lyon  \u001b[0m\u001b[36m \u001b[0m│\n",
       "│\u001b[36m \u001b[0m\u001b[36m 9  \u001b[0m\u001b[36m \u001b[0m│\u001b[36m \u001b[0m\u001b[36m-84.056\u001b[0m\u001b[36m \u001b[0m│\u001b[36m \u001b[0m\u001b[36m0.017\u001b[0m\u001b[36m \u001b[0m│\u001b[36m \u001b[0m\u001b[36m| the   \u001b[0m\u001b[36m \u001b[0m│\n",
       "└──────┴─────────┴───────┴──────────┘\n"
      ]
     },
     "metadata": {},
     "output_type": "display_data"
    }
   ],
   "source": [
    "test_prompt(model, \"The capitol of France is the city of\", 2003)"
   ]
  }
 ],
 "metadata": {
  "kernelspec": {
   "display_name": "interp",
   "language": "python",
   "name": "python3"
  },
  "language_info": {
   "codemirror_mode": {
    "name": "ipython",
    "version": 3
   },
   "file_extension": ".py",
   "mimetype": "text/x-python",
   "name": "python",
   "nbconvert_exporter": "python",
   "pygments_lexer": "ipython3",
   "version": "3.8.18"
  }
 },
 "nbformat": 4,
 "nbformat_minor": 2
}
